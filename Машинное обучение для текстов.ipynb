{
 "cells": [
  {
   "cell_type": "markdown",
   "metadata": {
    "toc": true
   },
   "source": [
    "<h1>Содержание<span class=\"tocSkip\"></span></h1>\n",
    "<div class=\"toc\"><ul class=\"toc-item\"><li><span><a href=\"#Подготовка\" data-toc-modified-id=\"Подготовка-1\"><span class=\"toc-item-num\">1&nbsp;&nbsp;</span>Подготовка</a></span></li><li><span><a href=\"#Обучение\" data-toc-modified-id=\"Обучение-2\"><span class=\"toc-item-num\">2&nbsp;&nbsp;</span>Обучение</a></span><ul class=\"toc-item\"><li><span><a href=\"#LogisticRegression\" data-toc-modified-id=\"LogisticRegression-2.1\"><span class=\"toc-item-num\">2.1&nbsp;&nbsp;</span>LogisticRegression</a></span></li><li><span><a href=\"#ComplementNB\" data-toc-modified-id=\"ComplementNB-2.2\"><span class=\"toc-item-num\">2.2&nbsp;&nbsp;</span>ComplementNB</a></span></li><li><span><a href=\"#RandomForestClassifier\" data-toc-modified-id=\"RandomForestClassifier-2.3\"><span class=\"toc-item-num\">2.3&nbsp;&nbsp;</span>RandomForestClassifier</a></span></li><li><span><a href=\"#SGDClassifier\" data-toc-modified-id=\"SGDClassifier-2.4\"><span class=\"toc-item-num\">2.4&nbsp;&nbsp;</span>SGDClassifier</a></span></li></ul></li><li><span><a href=\"#Выводы\" data-toc-modified-id=\"Выводы-3\"><span class=\"toc-item-num\">3&nbsp;&nbsp;</span>Выводы</a></span></li></ul></div>"
   ]
  },
  {
   "cell_type": "markdown",
   "metadata": {},
   "source": [
    "# Проект для «Викишоп»"
   ]
  },
  {
   "cell_type": "markdown",
   "metadata": {},
   "source": [
    "Интернет-магазин «Викишоп» запускает новый сервис. Теперь пользователи могут редактировать и дополнять описания товаров, как в вики-сообществах. То есть клиенты предлагают свои правки и комментируют изменения других. Магазину нужен инструмент, который будет искать токсичные комментарии и отправлять их на модерацию. \n",
    "\n",
    "Обучите модель классифицировать комментарии на позитивные и негативные. В вашем распоряжении набор данных с разметкой о токсичности правок.\n",
    "\n",
    "Постройте модель со значением метрики качества *F1* не меньше 0.75. \n",
    "\n",
    "**Инструкция по выполнению проекта**\n",
    "\n",
    "1. Загрузите и подготовьте данные.\n",
    "2. Обучите разные модели. \n",
    "3. Сделайте выводы.\n",
    "\n",
    "Для выполнения проекта применять *BERT* необязательно, но вы можете попробовать.\n",
    "\n",
    "**Описание данных**\n",
    "\n",
    "Данные находятся в файле `toxic_comments.csv`. Столбец *text* в нём содержит текст комментария, а *toxic* — целевой признак."
   ]
  },
  {
   "cell_type": "markdown",
   "metadata": {},
   "source": [
    "## Подготовка"
   ]
  },
  {
   "cell_type": "code",
   "execution_count": 1,
   "metadata": {},
   "outputs": [],
   "source": [
    "#pip install pandarallel"
   ]
  },
  {
   "cell_type": "code",
   "execution_count": 2,
   "metadata": {},
   "outputs": [],
   "source": [
    "import pandas as pd\n",
    "import numpy as np\n",
    "\n",
    "from time import time\n",
    "\n",
    "from tqdm.notebook import tqdm\n",
    "#tqdm.pandas()\n",
    "\n",
    "import os\n",
    "\n",
    "import re\n",
    "from sklearn.model_selection import train_test_split\n",
    "from sklearn.utils import shuffle\n",
    "\n",
    "import nltk\n",
    "from nltk.corpus import stopwords as nltk_stopwords\n",
    "from sklearn.feature_extraction.text import TfidfVectorizer\n",
    "\n",
    "from sklearn.naive_bayes import ComplementNB\n",
    "from sklearn.linear_model import LogisticRegression\n",
    "from sklearn.svm import LinearSVC\n",
    "from sklearn.linear_model import SGDClassifier\n",
    "from sklearn.ensemble import RandomForestClassifier\n",
    "\n",
    "from sklearn.model_selection import cross_val_score, RandomizedSearchCV\n",
    "\n",
    "from sklearn.metrics import f1_score, make_scorer\n",
    "\n",
    "RANDOM_STATE = 4242\n",
    "\n",
    "from sklearn.pipeline import Pipeline"
   ]
  },
  {
   "cell_type": "code",
   "execution_count": 19,
   "metadata": {},
   "outputs": [],
   "source": [
    "#pip install spacy"
   ]
  },
  {
   "cell_type": "code",
   "execution_count": 21,
   "metadata": {},
   "outputs": [],
   "source": [
    "import spacy"
   ]
  },
  {
   "cell_type": "code",
   "execution_count": 28,
   "metadata": {},
   "outputs": [],
   "source": [
    "#!python -m spacy download en_core_web_sm"
   ]
  },
  {
   "cell_type": "code",
   "execution_count": 27,
   "metadata": {},
   "outputs": [],
   "source": [
    "nlp = spacy.load('en_core_web_sm', disable = ['parser','ner'])"
   ]
  },
  {
   "cell_type": "code",
   "execution_count": 29,
   "metadata": {},
   "outputs": [],
   "source": [
    "pth1 = 'datasets/toxic_comments.csv'\n",
    "pth2 = '/datasets/toxic_comments.csv'\n",
    "\n",
    "if os.path.exists(pth1):\n",
    "    df = pd.read_csv(pth1, index_col=[0])\n",
    "elif os.path.exists(pth2):\n",
    "    df = pd.read_csv(pth2, index_col=[0])\n",
    "else:\n",
    "    print('Paths not found')"
   ]
  },
  {
   "cell_type": "code",
   "execution_count": 30,
   "metadata": {},
   "outputs": [
    {
     "data": {
      "text/html": [
       "<div>\n",
       "<style scoped>\n",
       "    .dataframe tbody tr th:only-of-type {\n",
       "        vertical-align: middle;\n",
       "    }\n",
       "\n",
       "    .dataframe tbody tr th {\n",
       "        vertical-align: top;\n",
       "    }\n",
       "\n",
       "    .dataframe thead th {\n",
       "        text-align: right;\n",
       "    }\n",
       "</style>\n",
       "<table border=\"1\" class=\"dataframe\">\n",
       "  <thead>\n",
       "    <tr style=\"text-align: right;\">\n",
       "      <th></th>\n",
       "      <th>text</th>\n",
       "      <th>toxic</th>\n",
       "    </tr>\n",
       "  </thead>\n",
       "  <tbody>\n",
       "    <tr>\n",
       "      <th>0</th>\n",
       "      <td>Explanation\\nWhy the edits made under my usern...</td>\n",
       "      <td>0</td>\n",
       "    </tr>\n",
       "    <tr>\n",
       "      <th>1</th>\n",
       "      <td>D'aww! He matches this background colour I'm s...</td>\n",
       "      <td>0</td>\n",
       "    </tr>\n",
       "    <tr>\n",
       "      <th>2</th>\n",
       "      <td>Hey man, I'm really not trying to edit war. It...</td>\n",
       "      <td>0</td>\n",
       "    </tr>\n",
       "    <tr>\n",
       "      <th>3</th>\n",
       "      <td>\"\\nMore\\nI can't make any real suggestions on ...</td>\n",
       "      <td>0</td>\n",
       "    </tr>\n",
       "    <tr>\n",
       "      <th>4</th>\n",
       "      <td>You, sir, are my hero. Any chance you remember...</td>\n",
       "      <td>0</td>\n",
       "    </tr>\n",
       "  </tbody>\n",
       "</table>\n",
       "</div>"
      ],
      "text/plain": [
       "                                                text  toxic\n",
       "0  Explanation\\nWhy the edits made under my usern...      0\n",
       "1  D'aww! He matches this background colour I'm s...      0\n",
       "2  Hey man, I'm really not trying to edit war. It...      0\n",
       "3  \"\\nMore\\nI can't make any real suggestions on ...      0\n",
       "4  You, sir, are my hero. Any chance you remember...      0"
      ]
     },
     "execution_count": 30,
     "metadata": {},
     "output_type": "execute_result"
    }
   ],
   "source": [
    "df.head()"
   ]
  },
  {
   "cell_type": "code",
   "execution_count": 31,
   "metadata": {},
   "outputs": [
    {
     "name": "stdout",
     "output_type": "stream",
     "text": [
      "<class 'pandas.core.frame.DataFrame'>\n",
      "Int64Index: 159292 entries, 0 to 159450\n",
      "Data columns (total 2 columns):\n",
      " #   Column  Non-Null Count   Dtype \n",
      "---  ------  --------------   ----- \n",
      " 0   text    159292 non-null  object\n",
      " 1   toxic   159292 non-null  int64 \n",
      "dtypes: int64(1), object(1)\n",
      "memory usage: 3.6+ MB\n"
     ]
    }
   ],
   "source": [
    "df.info()"
   ]
  },
  {
   "cell_type": "code",
   "execution_count": 32,
   "metadata": {},
   "outputs": [
    {
     "data": {
      "text/plain": [
       "0    143106\n",
       "1     16186\n",
       "Name: toxic, dtype: int64"
      ]
     },
     "execution_count": 32,
     "metadata": {},
     "output_type": "execute_result"
    }
   ],
   "source": [
    "df['toxic'].value_counts()"
   ]
  },
  {
   "cell_type": "code",
   "execution_count": 33,
   "metadata": {},
   "outputs": [
    {
     "data": {
      "text/plain": [
       "0"
      ]
     },
     "execution_count": 33,
     "metadata": {},
     "output_type": "execute_result"
    }
   ],
   "source": [
    "df['text'].duplicated().sum()"
   ]
  },
  {
   "cell_type": "code",
   "execution_count": 34,
   "metadata": {},
   "outputs": [
    {
     "data": {
      "text/plain": [
       "text     0\n",
       "toxic    0\n",
       "dtype: int64"
      ]
     },
     "execution_count": 34,
     "metadata": {},
     "output_type": "execute_result"
    }
   ],
   "source": [
    "df.isna().sum()"
   ]
  },
  {
   "cell_type": "code",
   "execution_count": 35,
   "metadata": {},
   "outputs": [
    {
     "name": "stdout",
     "output_type": "stream",
     "text": [
      "<class 'pandas.core.frame.DataFrame'>\n",
      "Int64Index: 159292 entries, 0 to 159450\n",
      "Data columns (total 2 columns):\n",
      " #   Column  Non-Null Count   Dtype \n",
      "---  ------  --------------   ----- \n",
      " 0   text    159292 non-null  object\n",
      " 1   toxic   159292 non-null  int8  \n",
      "dtypes: int8(1), object(1)\n",
      "memory usage: 2.6+ MB\n"
     ]
    }
   ],
   "source": [
    "df['toxic'] = df['toxic'].astype('int8')\n",
    "df.info()"
   ]
  },
  {
   "cell_type": "markdown",
   "metadata": {},
   "source": [
    "- Посмотрели данные, из обработки только уменьшили размер датасета на 1 Мб, возможно это ускорит обучение потом.\n",
    "- Есть дисбаланс классов - только 11% позитивных значений - возможно надо будет сделать балансировку."
   ]
  },
  {
   "cell_type": "code",
   "execution_count": 36,
   "metadata": {},
   "outputs": [],
   "source": [
    "def clear_text(text):\n",
    "    text2 = re.sub(r'[^a-zA-Z ]', ' ', text)\n",
    "    return \" \".join(text2.split())"
   ]
  },
  {
   "cell_type": "code",
   "execution_count": 37,
   "metadata": {},
   "outputs": [],
   "source": [
    "def lemmatizer(text):        \n",
    "    sent = []\n",
    "    doc = nlp(text)\n",
    "    for word in doc:\n",
    "        sent.append(word.lemma_)\n",
    "    return \" \".join(sent)"
   ]
  },
  {
   "cell_type": "markdown",
   "metadata": {},
   "source": [
    "Сформируем обучающую и тестовую выборки."
   ]
  },
  {
   "cell_type": "code",
   "execution_count": 38,
   "metadata": {},
   "outputs": [],
   "source": [
    "target = df['toxic']"
   ]
  },
  {
   "cell_type": "code",
   "execution_count": 39,
   "metadata": {},
   "outputs": [
    {
     "data": {
      "application/vnd.jupyter.widget-view+json": {
       "model_id": "fccc07cc9ffd4e2daa85ebb8a500cd73",
       "version_major": 2,
       "version_minor": 0
      },
      "text/plain": [
       "  0%|          | 0/159292 [00:00<?, ?it/s]"
      ]
     },
     "metadata": {},
     "output_type": "display_data"
    }
   ],
   "source": [
    "tqdm.pandas()\n",
    "\n",
    "df['lemm_text'] = df['text'].progress_apply(lemmatizer)"
   ]
  },
  {
   "cell_type": "code",
   "execution_count": 40,
   "metadata": {},
   "outputs": [],
   "source": [
    "clear_lemm_text = df['lemm_text'].apply(clear_text)"
   ]
  },
  {
   "cell_type": "code",
   "execution_count": 41,
   "metadata": {},
   "outputs": [],
   "source": [
    "clear_lemm_text = clear_lemm_text.str.lower()\n",
    "#corpus"
   ]
  },
  {
   "cell_type": "code",
   "execution_count": 42,
   "metadata": {},
   "outputs": [],
   "source": [
    "df['lemm_text'] = pd.DataFrame(clear_lemm_text, index=df.index)"
   ]
  },
  {
   "cell_type": "code",
   "execution_count": 43,
   "metadata": {},
   "outputs": [
    {
     "name": "stdout",
     "output_type": "stream",
     "text": [
      "(143362,) (143362,) (15930,) (15930,)\n"
     ]
    }
   ],
   "source": [
    "features_train, features_test, target_train, target_test = train_test_split(\n",
    "    df['lemm_text'], \n",
    "    target, \n",
    "    test_size=0.1, \n",
    "    random_state=12345)\n",
    "\n",
    "print(features_train.shape, target_train.shape, features_test.shape, target_test.shape)"
   ]
  },
  {
   "cell_type": "markdown",
   "metadata": {},
   "source": [
    "Загрузим стоп-слова."
   ]
  },
  {
   "cell_type": "code",
   "execution_count": 44,
   "metadata": {},
   "outputs": [
    {
     "name": "stderr",
     "output_type": "stream",
     "text": [
      "[nltk_data] Downloading package stopwords to\n",
      "[nltk_data]     C:\\Users\\nat\\AppData\\Roaming\\nltk_data...\n",
      "[nltk_data]   Package stopwords is already up-to-date!\n"
     ]
    }
   ],
   "source": [
    "nltk.download('stopwords')\n",
    "stopwords = set(nltk_stopwords.words('english'))"
   ]
  },
  {
   "cell_type": "code",
   "execution_count": 66,
   "metadata": {},
   "outputs": [
    {
     "data": {
      "text/plain": [
       "TfidfVectorizer(stop_words=['which', 'hasn', 'after', 'yourselves', \"mustn't\",\n",
       "                            'then', \"needn't\", \"shouldn't\", 'me', 'haven', 'by',\n",
       "                            \"hadn't\", 't', 'mustn', 'my', 'ours', 'other',\n",
       "                            \"couldn't\", 'will', \"hasn't\", 'hadn', \"shan't\",\n",
       "                            'nor', 'he', 'll', 'isn', 's', 'wouldn', 'these',\n",
       "                            'herself', ...])"
      ]
     },
     "execution_count": 66,
     "metadata": {},
     "output_type": "execute_result"
    }
   ],
   "source": [
    "count_tf_idf = TfidfVectorizer(stop_words=list(stopwords), lowercase=True)\n",
    "count_tf_idf"
   ]
  },
  {
   "cell_type": "markdown",
   "metadata": {},
   "source": [
    "Посчитаем TF-IDF для выборок. "
   ]
  },
  {
   "cell_type": "code",
   "execution_count": 67,
   "metadata": {},
   "outputs": [],
   "source": [
    "tf_idf = count_tf_idf.fit_transform(features_train)\n",
    "tf_idf_te = count_tf_idf.transform(features_test)"
   ]
  },
  {
   "cell_type": "code",
   "execution_count": 47,
   "metadata": {},
   "outputs": [
    {
     "data": {
      "text/plain": [
       "<143362x147784 sparse matrix of type '<class 'numpy.float64'>'\n",
       "\twith 3763860 stored elements in Compressed Sparse Row format>"
      ]
     },
     "execution_count": 47,
     "metadata": {},
     "output_type": "execute_result"
    }
   ],
   "source": [
    "tf_idf"
   ]
  },
  {
   "cell_type": "code",
   "execution_count": 70,
   "metadata": {},
   "outputs": [
    {
     "data": {
      "text/plain": [
       "<15930x147784 sparse matrix of type '<class 'numpy.str_'>'\n",
       "\twith 405749 stored elements in Compressed Sparse Row format>"
      ]
     },
     "execution_count": 70,
     "metadata": {},
     "output_type": "execute_result"
    }
   ],
   "source": [
    "tf_idf_t_l = tf_idf_te.astype(str)\n",
    "tf_idf_t_l"
   ]
  },
  {
   "cell_type": "markdown",
   "metadata": {},
   "source": [
    "## Обучение"
   ]
  },
  {
   "cell_type": "code",
   "execution_count": 48,
   "metadata": {},
   "outputs": [],
   "source": [
    "#Создам таблицу с F1 моделей\n",
    "model = ['LogisticRegression', 'ComplementNB', 'RandomForestClassifier', 'SGDClassifier']    \n",
    "model_f1 = pd.DataFrame(columns=['F1'], index=model)"
   ]
  },
  {
   "cell_type": "markdown",
   "metadata": {},
   "source": [
    "Возьмем несколько моделей классификации sklearn для классификации текстовых документов."
   ]
  },
  {
   "cell_type": "markdown",
   "metadata": {},
   "source": [
    "### LogisticRegression"
   ]
  },
  {
   "cell_type": "code",
   "execution_count": 49,
   "metadata": {},
   "outputs": [],
   "source": [
    "pipeline_lr = Pipeline(\n",
    "    [\n",
    "        (\"vect\", TfidfVectorizer(stop_words=list(stopwords), lowercase=True)),\n",
    "        (\"clf\", LogisticRegression()),\n",
    "    ]\n",
    ")"
   ]
  },
  {
   "cell_type": "code",
   "execution_count": 50,
   "metadata": {},
   "outputs": [],
   "source": [
    "#pipeline_lr.get_params().keys()"
   ]
  },
  {
   "cell_type": "code",
   "execution_count": 51,
   "metadata": {},
   "outputs": [],
   "source": [
    "params_lr ={\n",
    "    'clf__max_iter' : [300],\n",
    "    'clf__warm_start' : [False],\n",
    "    'clf__solver' : ['lbfgs'], \n",
    "    'clf__C' : [10] \n",
    "}  #np.arange(0, 1, 0.01), #'newton-cg', 'liblinear'"
   ]
  },
  {
   "cell_type": "code",
   "execution_count": 52,
   "metadata": {},
   "outputs": [
    {
     "name": "stderr",
     "output_type": "stream",
     "text": [
      "C:\\ProgramData\\Anaconda3\\lib\\site-packages\\sklearn\\model_selection\\_search.py:292: UserWarning: The total space of parameters 1 is smaller than n_iter=7. Running 1 iterations. For exhaustive searches, use GridSearchCV.\n",
      "  warnings.warn(\n"
     ]
    },
    {
     "name": "stdout",
     "output_type": "stream",
     "text": [
      "Fitting 3 folds for each of 1 candidates, totalling 3 fits\n",
      "LogisticRegression выполнена за 100.082s\n",
      "Средняя оценка F1 модели LogisticRegression: 0.77\n"
     ]
    }
   ],
   "source": [
    "t0 = time()\n",
    "\n",
    "model_lr = RandomizedSearchCV(estimator=pipeline_lr,\n",
    "                             param_distributions = params_lr, n_iter = 7, cv=3, scoring = 'f1', \n",
    "                             n_jobs = -1, verbose = 2, random_state = RANDOM_STATE\n",
    "                             )\n",
    "\n",
    "#model_lr.fit(tf_idf, target_train)\n",
    "model_lr.fit(features_train, target_train)\n",
    "\n",
    "#model_lr.best_estimator_.transform(features_train)\n",
    "#model_lr.transform(features_test)\n",
    "\n",
    "print(f\"LogisticRegression выполнена за {time() - t0:.3f}s\")\n",
    "\n",
    "print('Средняя оценка F1 модели LogisticRegression: %0.2f' % model_lr.best_score_)"
   ]
  },
  {
   "cell_type": "code",
   "execution_count": 53,
   "metadata": {},
   "outputs": [
    {
     "name": "stdout",
     "output_type": "stream",
     "text": [
      "Лучшие параметры: {'clf__warm_start': False, 'clf__solver': 'lbfgs', 'clf__max_iter': 300, 'clf__C': 10}\n",
      "\n"
     ]
    }
   ],
   "source": [
    "print('Лучшие параметры: {}\\n'.format(model_lr.best_params_))\n",
    "model_f1['F1']['LogisticRegression'] = round(model_lr.best_score_,4)"
   ]
  },
  {
   "cell_type": "markdown",
   "metadata": {},
   "source": [
    "### ComplementNB"
   ]
  },
  {
   "cell_type": "code",
   "execution_count": 54,
   "metadata": {},
   "outputs": [
    {
     "name": "stdout",
     "output_type": "stream",
     "text": [
      "Fitting 3 folds for each of 7 candidates, totalling 21 fits\n",
      "ComplementNB выполнена за 4.783s\n",
      "F1 через RandomizedSearchCV: 0.622\n",
      "Лучшие параметры: {'norm': True, 'fit_prior': False, 'alpha': 0.1}\n",
      "\n"
     ]
    }
   ],
   "source": [
    "params_cnb = {'alpha': [0.01, 0.1, 0.5, 1.0, 10.0],\n",
    "          'fit_prior': [True, False],\n",
    "          'norm': [True, False],         \n",
    "         }\n",
    "\n",
    "t0 = time()\n",
    "\n",
    "model_cnb = RandomizedSearchCV(ComplementNB(), \n",
    "                               param_distributions=params_cnb, \n",
    "                               n_jobs=-1, \n",
    "                               cv=3, \n",
    "                               n_iter=7, \n",
    "                               verbose=2, \n",
    "                               random_state=RANDOM_STATE, \n",
    "                               scoring='f1')\n",
    "\n",
    "model_cnb.fit(tf_idf, target_train)\n",
    "\n",
    "print(f\"ComplementNB выполнена за {time() - t0:.3f}s\")\n",
    "\n",
    "print('F1 через RandomizedSearchCV: {:.3f}'.format(model_cnb.best_score_))\n",
    "print('Лучшие параметры: {}\\n'.format(model_cnb.best_params_))"
   ]
  },
  {
   "cell_type": "code",
   "execution_count": 55,
   "metadata": {},
   "outputs": [],
   "source": [
    "model_f1['F1']['ComplementNB'] = round(model_cnb.best_score_,4)"
   ]
  },
  {
   "cell_type": "markdown",
   "metadata": {},
   "source": [
    "### RandomForestClassifier"
   ]
  },
  {
   "cell_type": "code",
   "execution_count": 56,
   "metadata": {},
   "outputs": [],
   "source": [
    "params_rfc = {#'bootstrap': [True],\n",
    "              'max_depth': [70, 90],\n",
    "              #'max_features': ['auto', 'sqrt'],\n",
    "              'min_samples_leaf': [4, 6],\n",
    "              'min_samples_split': [5, 10],\n",
    "              'n_estimators': [300, 400]\n",
    "             }"
   ]
  },
  {
   "cell_type": "code",
   "execution_count": 57,
   "metadata": {},
   "outputs": [
    {
     "name": "stdout",
     "output_type": "stream",
     "text": [
      "Fitting 3 folds for each of 7 candidates, totalling 21 fits\n",
      "RandomForestClassifier выполнена за 5026.244s\n",
      "Лучшие параметры RandomForestClassifier: {'n_estimators': 400, 'min_samples_split': 10, 'min_samples_leaf': 4, 'max_depth': 90}\n",
      "Средняя оценка качества F1: 0.14\n"
     ]
    }
   ],
   "source": [
    "t0 = time()\n",
    "\n",
    "rfc_rscv = RandomizedSearchCV(RandomForestClassifier(), \n",
    "                              param_distributions=params_rfc, \n",
    "                              cv=3,  \n",
    "                              n_iter=7,\n",
    "                              scoring='f1', \n",
    "                              n_jobs=-1, \n",
    "                              random_state=RANDOM_STATE, \n",
    "                              verbose=2)\n",
    "\n",
    "rfc_rscv.fit(tf_idf, target_train)\n",
    "\n",
    "print(f\"RandomForestClassifier выполнена за {time() - t0:.3f}s\")\n",
    "\n",
    "print(f'Лучшие параметры RandomForestClassifier: {rfc_rscv.best_params_}') \n",
    "print('Средняя оценка качества F1: %0.2f' % abs(rfc_rscv.best_score_))"
   ]
  },
  {
   "cell_type": "code",
   "execution_count": 58,
   "metadata": {},
   "outputs": [],
   "source": [
    "model_f1['F1']['RandomForestClassifier'] = round(rfc_rscv.best_score_,4)"
   ]
  },
  {
   "cell_type": "markdown",
   "metadata": {},
   "source": [
    "###  SGDClassifier"
   ]
  },
  {
   "cell_type": "code",
   "execution_count": 59,
   "metadata": {},
   "outputs": [],
   "source": [
    "param_sgd = {\n",
    "    'alpha': [1e-4, 1e-3, 1e-2, 1e-1, 1e0],\n",
    "    'penalty': ['l1', 'l2'],\n",
    "    'max_iter' : [500, 800, 1100],\n",
    "    'loss': ['hinge', 'log', 'modified_huber', 'squared_hinge', 'perceptron'],\n",
    "    'learning_rate' : ['constant', 'optimal', 'invscaling', 'adaptive'],\n",
    "    'eta0' : [1, 10, 100]\n",
    "}"
   ]
  },
  {
   "cell_type": "code",
   "execution_count": 60,
   "metadata": {},
   "outputs": [
    {
     "name": "stdout",
     "output_type": "stream",
     "text": [
      "Fitting 3 folds for each of 7 candidates, totalling 21 fits\n",
      "SGDClassifier выполнена за 21.368s\n",
      "Лучшие параметры SGDClassifier: {'penalty': 'l2', 'max_iter': 800, 'loss': 'perceptron', 'learning_rate': 'optimal', 'eta0': 100, 'alpha': 0.001}\n",
      "F1 SGDClassifier: 0.73\n"
     ]
    }
   ],
   "source": [
    "t0 = time()\n",
    "\n",
    "model_sgd = RandomizedSearchCV(estimator = SGDClassifier(), \n",
    "                               param_distributions = param_sgd, \n",
    "                               n_iter = 7, \n",
    "                               cv = 3, \n",
    "                               verbose = 2, \n",
    "                               random_state=RANDOM_STATE, \n",
    "                               n_jobs = -1, \n",
    "                               scoring = 'f1')\n",
    "\n",
    "model_sgd.fit(tf_idf, target_train)\n",
    "\n",
    "print(f\"SGDClassifier выполнена за {time() - t0:.3f}s\")\n",
    "\n",
    "f1_sgd = abs(model_sgd.best_score_)\n",
    "\n",
    "print(f'Лучшие параметры SGDClassifier: {model_sgd.best_params_}') \n",
    "print('F1 SGDClassifier: %0.2f' % f1_sgd)"
   ]
  },
  {
   "cell_type": "code",
   "execution_count": 61,
   "metadata": {},
   "outputs": [],
   "source": [
    "model_f1['F1']['SGDClassifier'] = round(f1_sgd,4)  "
   ]
  },
  {
   "cell_type": "code",
   "execution_count": 62,
   "metadata": {},
   "outputs": [
    {
     "data": {
      "text/html": [
       "<div>\n",
       "<style scoped>\n",
       "    .dataframe tbody tr th:only-of-type {\n",
       "        vertical-align: middle;\n",
       "    }\n",
       "\n",
       "    .dataframe tbody tr th {\n",
       "        vertical-align: top;\n",
       "    }\n",
       "\n",
       "    .dataframe thead th {\n",
       "        text-align: right;\n",
       "    }\n",
       "</style>\n",
       "<table border=\"1\" class=\"dataframe\">\n",
       "  <thead>\n",
       "    <tr style=\"text-align: right;\">\n",
       "      <th></th>\n",
       "      <th>F1</th>\n",
       "    </tr>\n",
       "  </thead>\n",
       "  <tbody>\n",
       "    <tr>\n",
       "      <th>LogisticRegression</th>\n",
       "      <td>0.7706</td>\n",
       "    </tr>\n",
       "    <tr>\n",
       "      <th>ComplementNB</th>\n",
       "      <td>0.622</td>\n",
       "    </tr>\n",
       "    <tr>\n",
       "      <th>RandomForestClassifier</th>\n",
       "      <td>0.1409</td>\n",
       "    </tr>\n",
       "    <tr>\n",
       "      <th>SGDClassifier</th>\n",
       "      <td>0.7282</td>\n",
       "    </tr>\n",
       "  </tbody>\n",
       "</table>\n",
       "</div>"
      ],
      "text/plain": [
       "                            F1\n",
       "LogisticRegression      0.7706\n",
       "ComplementNB             0.622\n",
       "RandomForestClassifier  0.1409\n",
       "SGDClassifier           0.7282"
      ]
     },
     "execution_count": 62,
     "metadata": {},
     "output_type": "execute_result"
    }
   ],
   "source": [
    "model_f1"
   ]
  },
  {
   "cell_type": "markdown",
   "metadata": {},
   "source": [
    "Лучшая метрика F1 на учебной выборке получилась у логистической регрессии. "
   ]
  },
  {
   "cell_type": "code",
   "execution_count": 74,
   "metadata": {},
   "outputs": [
    {
     "name": "stdout",
     "output_type": "stream",
     "text": [
      "F1 на тестовой выборке у LogisticRegression: 0.79\n"
     ]
    }
   ],
   "source": [
    "print('F1 на тестовой выборке у LogisticRegression: %0.2f' % f1_score(model_lr.predict(features_test), target_test))"
   ]
  },
  {
   "cell_type": "markdown",
   "metadata": {},
   "source": [
    "## Выводы"
   ]
  },
  {
   "cell_type": "markdown",
   "metadata": {},
   "source": [
    "1. Загружены и подготовлены данные.\n",
    "2. Обучены разные модели.\n",
    "3. Модель со значением метрики качества F1 >= 0.75: Логистическая регрессия."
   ]
  }
 ],
 "metadata": {
  "ExecuteTimeLog": [
   {
    "duration": 1225,
    "start_time": "2023-05-19T17:28:47.769Z"
   },
   {
    "duration": 2457,
    "start_time": "2023-05-19T17:29:10.951Z"
   },
   {
    "duration": 12,
    "start_time": "2023-05-19T17:29:16.231Z"
   },
   {
    "duration": 26,
    "start_time": "2023-05-19T17:29:26.991Z"
   },
   {
    "duration": 5,
    "start_time": "2023-05-19T17:29:35.488Z"
   },
   {
    "duration": 66,
    "start_time": "2023-05-19T17:29:42.151Z"
   },
   {
    "duration": 19,
    "start_time": "2023-05-19T17:29:49.159Z"
   },
   {
    "duration": 25,
    "start_time": "2023-05-19T17:29:57.839Z"
   },
   {
    "duration": 3,
    "start_time": "2023-05-19T17:30:20.288Z"
   },
   {
    "duration": 2,
    "start_time": "2023-05-19T17:30:30.936Z"
   },
   {
    "duration": 3,
    "start_time": "2023-05-19T17:31:28.697Z"
   },
   {
    "duration": 2162,
    "start_time": "2023-05-19T17:31:30.208Z"
   },
   {
    "duration": 5,
    "start_time": "2023-05-19T17:31:44.840Z"
   },
   {
    "duration": 2,
    "start_time": "2023-05-19T17:31:59.627Z"
   },
   {
    "duration": 511421,
    "start_time": "2023-05-19T17:32:04.544Z"
   },
   {
    "duration": 4,
    "start_time": "2023-05-19T17:40:57.996Z"
   },
   {
    "duration": 307658,
    "start_time": "2023-05-19T17:40:59.725Z"
   },
   {
    "duration": 6,
    "start_time": "2023-05-19T18:04:00.418Z"
   },
   {
    "duration": 5,
    "start_time": "2023-05-19T18:04:03.143Z"
   },
   {
    "duration": 14,
    "start_time": "2023-05-19T18:04:06.927Z"
   },
   {
    "duration": 5,
    "start_time": "2023-05-19T18:04:31.143Z"
   },
   {
    "duration": 5,
    "start_time": "2023-05-19T18:04:33.111Z"
   },
   {
    "duration": 232,
    "start_time": "2023-05-19T18:04:42.303Z"
   },
   {
    "duration": 6,
    "start_time": "2023-05-19T18:04:46.393Z"
   },
   {
    "duration": 27,
    "start_time": "2023-05-19T18:04:51.447Z"
   },
   {
    "duration": 56,
    "start_time": "2023-05-19T18:04:54.855Z"
   },
   {
    "duration": 37,
    "start_time": "2023-05-19T18:05:16.626Z"
   },
   {
    "duration": 4,
    "start_time": "2023-05-19T18:06:03.466Z"
   },
   {
    "duration": 12,
    "start_time": "2023-05-19T18:06:07.714Z"
   },
   {
    "duration": 12,
    "start_time": "2023-05-19T18:06:20.056Z"
   },
   {
    "duration": 14,
    "start_time": "2023-05-19T18:07:07.705Z"
   },
   {
    "duration": 5,
    "start_time": "2023-05-19T18:07:36.595Z"
   },
   {
    "duration": 27,
    "start_time": "2023-05-19T18:07:39.913Z"
   },
   {
    "duration": 17,
    "start_time": "2023-05-19T18:08:27.324Z"
   },
   {
    "duration": 17,
    "start_time": "2023-05-19T18:08:39.409Z"
   },
   {
    "duration": 37,
    "start_time": "2023-05-19T18:11:03.066Z"
   },
   {
    "duration": 22,
    "start_time": "2023-05-19T18:11:28.304Z"
   },
   {
    "duration": 17,
    "start_time": "2023-05-19T18:13:18.036Z"
   },
   {
    "duration": 20,
    "start_time": "2023-05-19T18:13:55.443Z"
   },
   {
    "duration": 19,
    "start_time": "2023-05-19T18:15:36.454Z"
   },
   {
    "duration": 2493,
    "start_time": "2023-05-19T18:16:42.978Z"
   },
   {
    "duration": 10,
    "start_time": "2023-05-19T18:17:18.704Z"
   },
   {
    "duration": 3,
    "start_time": "2023-05-19T18:21:13.387Z"
   },
   {
    "duration": 48,
    "start_time": "2023-05-20T04:52:25.284Z"
   },
   {
    "duration": 2503,
    "start_time": "2023-05-20T04:52:29.688Z"
   },
   {
    "duration": 3453,
    "start_time": "2023-05-20T04:52:32.193Z"
   },
   {
    "duration": 14,
    "start_time": "2023-05-20T04:52:35.648Z"
   },
   {
    "duration": 31,
    "start_time": "2023-05-20T04:52:35.664Z"
   },
   {
    "duration": 5,
    "start_time": "2023-05-20T04:52:35.697Z"
   },
   {
    "duration": 92,
    "start_time": "2023-05-20T04:52:35.704Z"
   },
   {
    "duration": 28,
    "start_time": "2023-05-20T04:52:35.797Z"
   },
   {
    "duration": 44,
    "start_time": "2023-05-20T04:52:35.827Z"
   },
   {
    "duration": 5,
    "start_time": "2023-05-20T04:52:35.873Z"
   },
   {
    "duration": 6,
    "start_time": "2023-05-20T04:52:35.880Z"
   },
   {
    "duration": 3,
    "start_time": "2023-05-20T04:52:41.051Z"
   },
   {
    "duration": 311022,
    "start_time": "2023-05-20T04:52:59.996Z"
   },
   {
    "duration": 3,
    "start_time": "2023-05-20T04:58:11.021Z"
   },
   {
    "duration": 3,
    "start_time": "2023-05-20T04:58:13.547Z"
   },
   {
    "duration": 3,
    "start_time": "2023-05-20T04:58:26.372Z"
   },
   {
    "duration": 88,
    "start_time": "2023-05-20T04:58:41.278Z"
   },
   {
    "duration": 660759,
    "start_time": "2023-05-20T04:58:50.636Z"
   },
   {
    "duration": 7,
    "start_time": "2023-05-20T14:17:04.367Z"
   },
   {
    "duration": 6,
    "start_time": "2023-05-20T14:17:07.119Z"
   },
   {
    "duration": 23,
    "start_time": "2023-05-20T14:17:08.350Z"
   },
   {
    "duration": 10,
    "start_time": "2023-05-20T14:17:10.023Z"
   },
   {
    "duration": 224,
    "start_time": "2023-05-20T14:17:12.181Z"
   },
   {
    "duration": 8,
    "start_time": "2023-05-20T14:17:14.286Z"
   },
   {
    "duration": 54,
    "start_time": "2023-05-20T14:17:16.119Z"
   },
   {
    "duration": 18,
    "start_time": "2023-05-20T14:17:19.014Z"
   },
   {
    "duration": 202590,
    "start_time": "2023-05-20T14:18:06.768Z"
   },
   {
    "duration": 4,
    "start_time": "2023-05-20T14:56:04.664Z"
   },
   {
    "duration": 0,
    "start_time": "2023-05-21T10:45:54.092Z"
   },
   {
    "duration": 0,
    "start_time": "2023-05-21T10:45:54.096Z"
   },
   {
    "duration": 5,
    "start_time": "2023-05-21T10:45:58.080Z"
   },
   {
    "duration": 2822,
    "start_time": "2023-05-21T10:45:59.817Z"
   },
   {
    "duration": 992,
    "start_time": "2023-05-21T10:46:08.274Z"
   },
   {
    "duration": 10,
    "start_time": "2023-05-21T10:46:10.566Z"
   },
   {
    "duration": 33,
    "start_time": "2023-05-21T10:46:11.471Z"
   },
   {
    "duration": 6,
    "start_time": "2023-05-21T10:46:13.262Z"
   },
   {
    "duration": 76,
    "start_time": "2023-05-21T10:46:13.758Z"
   },
   {
    "duration": 31,
    "start_time": "2023-05-21T10:46:14.201Z"
   },
   {
    "duration": 38,
    "start_time": "2023-05-21T10:46:14.602Z"
   },
   {
    "duration": 3,
    "start_time": "2023-05-21T10:46:28.625Z"
   },
   {
    "duration": 222,
    "start_time": "2023-05-21T10:46:42.489Z"
   },
   {
    "duration": 3,
    "start_time": "2023-05-21T10:48:35.670Z"
   },
   {
    "duration": 22,
    "start_time": "2023-05-21T10:49:06.108Z"
   },
   {
    "duration": 21,
    "start_time": "2023-05-21T10:49:16.589Z"
   },
   {
    "duration": 73,
    "start_time": "2023-05-21T10:50:14.265Z"
   },
   {
    "duration": 479,
    "start_time": "2023-05-21T10:50:29.307Z"
   },
   {
    "duration": 23,
    "start_time": "2023-05-21T10:52:03.762Z"
   },
   {
    "duration": 77,
    "start_time": "2023-05-21T10:53:07.569Z"
   },
   {
    "duration": 3,
    "start_time": "2023-05-21T10:53:45.779Z"
   },
   {
    "duration": 3,
    "start_time": "2023-05-21T10:56:20.684Z"
   },
   {
    "duration": 79,
    "start_time": "2023-05-21T10:57:17.133Z"
   },
   {
    "duration": 3,
    "start_time": "2023-05-21T10:57:38.064Z"
   },
   {
    "duration": 86,
    "start_time": "2023-05-21T10:58:28.549Z"
   },
   {
    "duration": 4,
    "start_time": "2023-05-21T10:58:40.162Z"
   },
   {
    "duration": 394,
    "start_time": "2023-05-21T10:58:43.107Z"
   },
   {
    "duration": 469,
    "start_time": "2023-05-21T10:58:51.547Z"
   },
   {
    "duration": 474,
    "start_time": "2023-05-21T10:59:16.781Z"
   },
   {
    "duration": 1036,
    "start_time": "2023-05-21T10:59:49.861Z"
   },
   {
    "duration": 493,
    "start_time": "2023-05-21T11:00:15.558Z"
   },
   {
    "duration": 466,
    "start_time": "2023-05-21T11:00:53.084Z"
   },
   {
    "duration": 909,
    "start_time": "2023-05-21T11:00:59.461Z"
   },
   {
    "duration": 7,
    "start_time": "2023-05-21T11:01:53.988Z"
   },
   {
    "duration": 7,
    "start_time": "2023-05-21T11:02:13.788Z"
   },
   {
    "duration": 3,
    "start_time": "2023-05-21T11:04:24.981Z"
   },
   {
    "duration": 74481,
    "start_time": "2023-05-21T11:04:28.731Z"
   },
   {
    "duration": 138,
    "start_time": "2023-05-21T11:06:00.566Z"
   },
   {
    "duration": 6,
    "start_time": "2023-05-21T11:06:08.541Z"
   },
   {
    "duration": 7,
    "start_time": "2023-05-21T11:06:22.649Z"
   },
   {
    "duration": 3,
    "start_time": "2023-05-21T11:07:06.285Z"
   },
   {
    "duration": 6,
    "start_time": "2023-05-21T11:07:09.837Z"
   },
   {
    "duration": 4,
    "start_time": "2023-05-21T11:07:24.797Z"
   },
   {
    "duration": 6,
    "start_time": "2023-05-21T11:07:27.542Z"
   },
   {
    "duration": 4,
    "start_time": "2023-05-21T11:07:34.987Z"
   },
   {
    "duration": 6,
    "start_time": "2023-05-21T11:07:37.302Z"
   },
   {
    "duration": 4,
    "start_time": "2023-05-21T11:08:01.453Z"
   },
   {
    "duration": 6,
    "start_time": "2023-05-21T11:08:03.669Z"
   },
   {
    "duration": 25,
    "start_time": "2023-05-21T11:10:02.142Z"
   },
   {
    "duration": 4,
    "start_time": "2023-05-21T11:10:23.190Z"
   },
   {
    "duration": 8,
    "start_time": "2023-05-21T11:10:27.564Z"
   },
   {
    "duration": 7,
    "start_time": "2023-05-21T11:10:32.310Z"
   },
   {
    "duration": 12,
    "start_time": "2023-05-21T11:10:34.310Z"
   },
   {
    "duration": 248,
    "start_time": "2023-05-21T11:10:38.849Z"
   },
   {
    "duration": 5,
    "start_time": "2023-05-21T11:10:40.190Z"
   },
   {
    "duration": 418,
    "start_time": "2023-05-21T11:10:42.953Z"
   },
   {
    "duration": 517826,
    "start_time": "2023-05-21T11:10:46.442Z"
   },
   {
    "duration": 4,
    "start_time": "2023-05-21T11:19:24.271Z"
   },
   {
    "duration": 4,
    "start_time": "2023-05-21T11:19:24.280Z"
   },
   {
    "duration": 7,
    "start_time": "2023-05-21T11:19:24.287Z"
   },
   {
    "duration": 11,
    "start_time": "2023-05-21T11:19:24.296Z"
   },
   {
    "duration": 11,
    "start_time": "2023-05-21T11:19:24.360Z"
   },
   {
    "duration": 21,
    "start_time": "2023-05-21T11:24:40.635Z"
   },
   {
    "duration": 21,
    "start_time": "2023-05-21T11:32:02.948Z"
   },
   {
    "duration": 8,
    "start_time": "2023-05-21T11:32:16.611Z"
   },
   {
    "duration": 20,
    "start_time": "2023-05-21T11:32:20.012Z"
   },
   {
    "duration": 33,
    "start_time": "2023-05-21T11:33:42.749Z"
   },
   {
    "duration": 25,
    "start_time": "2023-05-21T11:34:15.933Z"
   },
   {
    "duration": 23,
    "start_time": "2023-05-21T11:36:13.309Z"
   },
   {
    "duration": 23,
    "start_time": "2023-05-21T11:36:21.588Z"
   },
   {
    "duration": 38,
    "start_time": "2023-05-21T11:39:49.695Z"
   },
   {
    "duration": 20,
    "start_time": "2023-05-21T11:42:22.635Z"
   },
   {
    "duration": 23,
    "start_time": "2023-05-21T11:42:31.566Z"
   },
   {
    "duration": 22,
    "start_time": "2023-05-21T11:44:43.159Z"
   },
   {
    "duration": 21,
    "start_time": "2023-05-21T11:45:53.695Z"
   },
   {
    "duration": 89,
    "start_time": "2023-05-21T11:46:49.791Z"
   },
   {
    "duration": 72,
    "start_time": "2023-05-21T11:46:53.454Z"
   },
   {
    "duration": 22,
    "start_time": "2023-05-21T11:49:16.540Z"
   },
   {
    "duration": 5,
    "start_time": "2023-05-21T11:49:50.271Z"
   },
   {
    "duration": 22,
    "start_time": "2023-05-21T11:49:56.828Z"
   },
   {
    "duration": 1119105,
    "start_time": "2023-05-21T11:55:38.724Z"
   },
   {
    "duration": 2007,
    "start_time": "2023-05-21T12:23:15.869Z"
   },
   {
    "duration": 29,
    "start_time": "2023-05-21T12:23:22.197Z"
   },
   {
    "duration": 21,
    "start_time": "2023-05-21T12:23:23.501Z"
   },
   {
    "duration": 92,
    "start_time": "2023-05-21T12:23:24.614Z"
   },
   {
    "duration": 224,
    "start_time": "2023-05-21T12:23:28.567Z"
   },
   {
    "duration": 5,
    "start_time": "2023-05-21T12:23:30.172Z"
   },
   {
    "duration": 6415,
    "start_time": "2023-05-21T12:23:31.568Z"
   },
   {
    "duration": 20,
    "start_time": "2023-05-21T12:23:42.190Z"
   },
   {
    "duration": 4,
    "start_time": "2023-05-21T12:24:16.358Z"
   },
   {
    "duration": 21,
    "start_time": "2023-05-21T12:24:21.910Z"
   },
   {
    "duration": 5,
    "start_time": "2023-05-21T13:27:46.222Z"
   },
   {
    "duration": 77,
    "start_time": "2023-05-21T13:27:55.828Z"
   },
   {
    "duration": 72,
    "start_time": "2023-05-21T13:28:15.514Z"
   },
   {
    "duration": 76,
    "start_time": "2023-05-21T13:28:57.052Z"
   },
   {
    "duration": 78,
    "start_time": "2023-05-21T13:29:23.987Z"
   },
   {
    "duration": 82,
    "start_time": "2023-05-21T13:29:51.292Z"
   },
   {
    "duration": 76,
    "start_time": "2023-05-21T13:30:11.580Z"
   },
   {
    "duration": 75711,
    "start_time": "2023-05-21T13:30:43.796Z"
   },
   {
    "duration": 265826,
    "start_time": "2023-05-21T13:36:29.309Z"
   },
   {
    "duration": 382342,
    "start_time": "2023-05-21T13:43:38.294Z"
   },
   {
    "duration": 40540,
    "start_time": "2023-05-21T13:50:08.327Z"
   },
   {
    "duration": 23,
    "start_time": "2023-05-21T13:51:21.523Z"
   },
   {
    "duration": 4,
    "start_time": "2023-05-21T13:52:17.041Z"
   },
   {
    "duration": 23,
    "start_time": "2023-05-21T13:52:21.466Z"
   },
   {
    "duration": 193978,
    "start_time": "2023-05-21T13:52:51.784Z"
   },
   {
    "duration": 593714,
    "start_time": "2023-05-21T13:56:14.044Z"
   },
   {
    "duration": 23,
    "start_time": "2023-05-21T14:06:29.139Z"
   },
   {
    "duration": 130,
    "start_time": "2023-05-21T14:06:35.476Z"
   },
   {
    "duration": 22,
    "start_time": "2023-05-21T14:35:09.507Z"
   },
   {
    "duration": 5,
    "start_time": "2023-05-21T14:36:39.890Z"
   },
   {
    "duration": 23,
    "start_time": "2023-05-21T14:37:48.196Z"
   },
   {
    "duration": 363,
    "start_time": "2023-05-21T14:38:27.819Z"
   },
   {
    "duration": 324,
    "start_time": "2023-05-21T14:39:04.821Z"
   },
   {
    "duration": 25,
    "start_time": "2023-05-21T14:41:27.853Z"
   },
   {
    "duration": 64,
    "start_time": "2023-05-21T14:42:44.069Z"
   },
   {
    "duration": 58,
    "start_time": "2023-05-21T14:44:50.307Z"
   },
   {
    "duration": 18,
    "start_time": "2023-05-21T14:47:33.789Z"
   },
   {
    "duration": 3,
    "start_time": "2023-05-21T14:47:37.188Z"
   },
   {
    "duration": 4937,
    "start_time": "2023-05-21T14:47:38.325Z"
   },
   {
    "duration": 3,
    "start_time": "2023-05-21T14:50:23.964Z"
   },
   {
    "duration": 289416,
    "start_time": "2023-05-21T14:50:24.975Z"
   },
   {
    "duration": 27805,
    "start_time": "2023-05-21T14:55:16.697Z"
   },
   {
    "duration": 0,
    "start_time": "2023-05-21T14:55:44.506Z"
   },
   {
    "duration": 4,
    "start_time": "2023-05-21T14:55:46.850Z"
   },
   {
    "duration": 371881,
    "start_time": "2023-05-21T14:55:47.942Z"
   },
   {
    "duration": 3,
    "start_time": "2023-05-21T15:02:30.250Z"
   },
   {
    "duration": 49,
    "start_time": "2023-05-21T15:03:31.963Z"
   },
   {
    "duration": 1995,
    "start_time": "2023-05-21T15:03:41.753Z"
   },
   {
    "duration": 2677,
    "start_time": "2023-05-21T15:03:43.873Z"
   },
   {
    "duration": 498,
    "start_time": "2023-05-21T15:03:46.552Z"
   },
   {
    "duration": 3428,
    "start_time": "2023-05-21T15:03:47.051Z"
   },
   {
    "duration": 37,
    "start_time": "2023-05-21T15:03:58.849Z"
   },
   {
    "duration": 16,
    "start_time": "2023-05-21T15:04:00.674Z"
   },
   {
    "duration": 80,
    "start_time": "2023-05-21T15:04:01.180Z"
   },
   {
    "duration": 34,
    "start_time": "2023-05-21T15:04:01.591Z"
   },
   {
    "duration": 33,
    "start_time": "2023-05-21T15:04:01.873Z"
   },
   {
    "duration": 2,
    "start_time": "2023-05-21T15:04:08.651Z"
   },
   {
    "duration": 3,
    "start_time": "2023-05-21T15:04:09.250Z"
   },
   {
    "duration": 3,
    "start_time": "2023-05-21T15:04:10.099Z"
   },
   {
    "duration": 2,
    "start_time": "2023-05-21T15:04:15.691Z"
   },
   {
    "duration": 3,
    "start_time": "2023-05-21T15:04:17.951Z"
   },
   {
    "duration": 284,
    "start_time": "2023-05-21T15:04:39.906Z"
   },
   {
    "duration": 1088762,
    "start_time": "2023-05-21T15:04:45.256Z"
   },
   {
    "duration": 1971,
    "start_time": "2023-05-21T15:34:24.762Z"
   },
   {
    "duration": 7,
    "start_time": "2023-05-21T15:34:29.762Z"
   },
   {
    "duration": 32,
    "start_time": "2023-05-21T15:34:33.954Z"
   },
   {
    "duration": 25,
    "start_time": "2023-05-21T15:34:36.564Z"
   },
   {
    "duration": 20,
    "start_time": "2023-05-21T15:34:38.663Z"
   },
   {
    "duration": 3,
    "start_time": "2023-05-21T15:34:45.406Z"
   },
   {
    "duration": 18,
    "start_time": "2023-05-21T15:34:47.954Z"
   },
   {
    "duration": 6,
    "start_time": "2023-05-21T15:34:56.962Z"
   },
   {
    "duration": 236,
    "start_time": "2023-05-21T15:35:04.063Z"
   },
   {
    "duration": 6,
    "start_time": "2023-05-21T15:35:05.223Z"
   },
   {
    "duration": 6430,
    "start_time": "2023-05-21T15:35:11.762Z"
   },
   {
    "duration": 23,
    "start_time": "2023-05-21T15:35:44.267Z"
   },
   {
    "duration": 248485,
    "start_time": "2023-05-21T15:36:02.566Z"
   },
   {
    "duration": 57,
    "start_time": "2023-05-21T15:40:43.567Z"
   },
   {
    "duration": 4,
    "start_time": "2023-05-21T15:40:48.566Z"
   },
   {
    "duration": 206018,
    "start_time": "2023-05-21T15:40:51.659Z"
   },
   {
    "duration": 38524,
    "start_time": "2023-05-21T15:44:27.017Z"
   },
   {
    "duration": 56,
    "start_time": "2023-05-21T15:52:17.974Z"
   },
   {
    "duration": 7,
    "start_time": "2023-05-21T15:52:38.162Z"
   },
   {
    "duration": 2020,
    "start_time": "2023-05-21T15:53:43.784Z"
   },
   {
    "duration": 2670,
    "start_time": "2023-05-21T15:53:45.806Z"
   },
   {
    "duration": 490,
    "start_time": "2023-05-21T15:53:48.478Z"
   },
   {
    "duration": 3430,
    "start_time": "2023-05-21T15:53:48.970Z"
   },
   {
    "duration": 3,
    "start_time": "2023-05-21T15:54:00.185Z"
   },
   {
    "duration": 4,
    "start_time": "2023-05-21T15:54:21.505Z"
   },
   {
    "duration": 768,
    "start_time": "2023-05-21T15:54:22.374Z"
   },
   {
    "duration": 4,
    "start_time": "2023-05-21T15:54:32.770Z"
   },
   {
    "duration": 3,
    "start_time": "2023-05-21T15:54:33.569Z"
   },
   {
    "duration": 8210,
    "start_time": "2023-05-21T15:54:36.389Z"
   },
   {
    "duration": 17,
    "start_time": "2023-05-21T15:54:59.983Z"
   },
   {
    "duration": 741,
    "start_time": "2023-05-21T15:55:26.167Z"
   },
   {
    "duration": 15,
    "start_time": "2023-05-21T15:55:36.577Z"
   },
   {
    "duration": 5,
    "start_time": "2023-05-21T15:55:46.386Z"
   },
   {
    "duration": 27,
    "start_time": "2023-05-21T15:55:47.009Z"
   },
   {
    "duration": 231,
    "start_time": "2023-05-21T15:55:49.712Z"
   },
   {
    "duration": 11,
    "start_time": "2023-05-21T15:55:50.497Z"
   },
   {
    "duration": 68,
    "start_time": "2023-05-21T15:55:51.685Z"
   },
   {
    "duration": 3,
    "start_time": "2023-05-21T15:56:02.367Z"
   },
   {
    "duration": 86,
    "start_time": "2023-05-21T15:56:06.086Z"
   },
   {
    "duration": 5,
    "start_time": "2023-05-21T15:57:00.570Z"
   },
   {
    "duration": 86179,
    "start_time": "2023-05-21T15:57:01.567Z"
   },
   {
    "duration": 15322,
    "start_time": "2023-05-21T15:58:33.878Z"
   },
   {
    "duration": 6471,
    "start_time": "2023-05-21T15:58:50.567Z"
   },
   {
    "duration": 890388,
    "start_time": "2023-05-21T15:59:00.820Z"
   },
   {
    "duration": 122681,
    "start_time": "2023-05-21T16:14:05.451Z"
   },
   {
    "duration": 49552,
    "start_time": "2023-05-21T16:20:31.658Z"
   },
   {
    "duration": 19,
    "start_time": "2023-05-21T16:21:27.187Z"
   },
   {
    "duration": 3,
    "start_time": "2023-05-21T16:21:54.864Z"
   },
   {
    "duration": 124726,
    "start_time": "2023-05-21T16:21:55.988Z"
   },
   {
    "duration": 4780,
    "start_time": "2023-05-21T16:25:02.982Z"
   },
   {
    "duration": 118971,
    "start_time": "2023-05-21T16:25:41.992Z"
   },
   {
    "duration": 23,
    "start_time": "2023-05-21T16:28:01.683Z"
   },
   {
    "duration": 321,
    "start_time": "2023-05-21T16:28:48.602Z"
   },
   {
    "duration": 20,
    "start_time": "2023-05-21T16:29:01.968Z"
   },
   {
    "duration": 9,
    "start_time": "2023-05-21T16:29:12.007Z"
   },
   {
    "duration": 19,
    "start_time": "2023-05-21T16:29:17.279Z"
   },
   {
    "duration": 20,
    "start_time": "2023-05-21T16:30:14.000Z"
   },
   {
    "duration": 24,
    "start_time": "2023-05-21T16:30:34.088Z"
   },
   {
    "duration": 70,
    "start_time": "2023-05-21T16:30:59.471Z"
   },
   {
    "duration": 19,
    "start_time": "2023-05-21T16:31:05.311Z"
   },
   {
    "duration": 4,
    "start_time": "2023-05-21T16:31:25.787Z"
   },
   {
    "duration": 20,
    "start_time": "2023-05-21T16:32:50.309Z"
   },
   {
    "duration": 21,
    "start_time": "2023-05-21T16:33:09.796Z"
   },
   {
    "duration": 5,
    "start_time": "2023-05-21T16:42:18.600Z"
   },
   {
    "duration": 3,
    "start_time": "2023-05-21T16:42:30.376Z"
   },
   {
    "duration": 3,
    "start_time": "2023-05-21T16:42:58.470Z"
   },
   {
    "duration": 3,
    "start_time": "2023-05-21T16:43:21.855Z"
   },
   {
    "duration": 18,
    "start_time": "2023-05-21T16:43:33.509Z"
   },
   {
    "duration": 3,
    "start_time": "2023-05-21T16:43:43.918Z"
   },
   {
    "duration": 10,
    "start_time": "2023-05-21T16:44:10.999Z"
   },
   {
    "duration": 1328,
    "start_time": "2023-05-21T16:44:29.962Z"
   },
   {
    "duration": 57,
    "start_time": "2023-05-21T16:44:56.462Z"
   },
   {
    "duration": 3,
    "start_time": "2023-05-21T16:45:05.622Z"
   },
   {
    "duration": 1423,
    "start_time": "2023-05-21T16:45:15.462Z"
   },
   {
    "duration": 2525,
    "start_time": "2023-05-21T16:45:16.887Z"
   },
   {
    "duration": 493,
    "start_time": "2023-05-21T16:45:19.413Z"
   },
   {
    "duration": 947,
    "start_time": "2023-05-21T16:45:19.908Z"
   },
   {
    "duration": 18,
    "start_time": "2023-05-21T16:45:20.857Z"
   },
   {
    "duration": 32,
    "start_time": "2023-05-21T16:45:20.877Z"
   },
   {
    "duration": 5,
    "start_time": "2023-05-21T16:45:20.910Z"
   },
   {
    "duration": 98,
    "start_time": "2023-05-21T16:45:20.917Z"
   },
   {
    "duration": 34,
    "start_time": "2023-05-21T16:45:21.017Z"
   },
   {
    "duration": 31,
    "start_time": "2023-05-21T16:45:21.053Z"
   },
   {
    "duration": 2,
    "start_time": "2023-05-21T16:45:21.086Z"
   },
   {
    "duration": 3,
    "start_time": "2023-05-21T16:45:21.090Z"
   },
   {
    "duration": 6,
    "start_time": "2023-05-21T16:45:21.095Z"
   },
   {
    "duration": 5,
    "start_time": "2023-05-21T16:45:21.102Z"
   },
   {
    "duration": 7991,
    "start_time": "2023-05-21T16:45:21.108Z"
   },
   {
    "duration": 16,
    "start_time": "2023-05-21T16:45:29.100Z"
   },
   {
    "duration": 6,
    "start_time": "2023-05-21T16:45:29.117Z"
   },
   {
    "duration": 8,
    "start_time": "2023-05-21T16:45:29.125Z"
   },
   {
    "duration": 16,
    "start_time": "2023-05-21T16:45:29.134Z"
   },
   {
    "duration": 4,
    "start_time": "2023-05-21T16:45:29.151Z"
   },
   {
    "duration": 6,
    "start_time": "2023-05-21T16:45:29.157Z"
   },
   {
    "duration": 7,
    "start_time": "2023-05-21T16:45:29.165Z"
   },
   {
    "duration": 2,
    "start_time": "2023-05-21T16:45:29.174Z"
   },
   {
    "duration": 194,
    "start_time": "2023-05-21T16:45:29.177Z"
   },
   {
    "duration": 5,
    "start_time": "2023-05-21T16:45:29.373Z"
   },
   {
    "duration": 55,
    "start_time": "2023-05-21T16:45:29.379Z"
   },
   {
    "duration": 5,
    "start_time": "2023-05-21T16:45:29.436Z"
   },
   {
    "duration": 326,
    "start_time": "2023-05-21T16:45:29.453Z"
   },
   {
    "duration": 3,
    "start_time": "2023-05-21T16:45:29.781Z"
   },
   {
    "duration": 337,
    "start_time": "2023-05-21T16:45:29.786Z"
   },
   {
    "duration": 0,
    "start_time": "2023-05-21T16:45:30.124Z"
   },
   {
    "duration": 0,
    "start_time": "2023-05-21T16:45:30.126Z"
   },
   {
    "duration": 0,
    "start_time": "2023-05-21T16:45:30.127Z"
   },
   {
    "duration": 0,
    "start_time": "2023-05-21T16:45:30.128Z"
   },
   {
    "duration": 0,
    "start_time": "2023-05-21T16:45:30.129Z"
   },
   {
    "duration": 0,
    "start_time": "2023-05-21T16:45:30.130Z"
   },
   {
    "duration": 0,
    "start_time": "2023-05-21T16:45:30.131Z"
   },
   {
    "duration": 9,
    "start_time": "2023-05-21T16:46:07.866Z"
   },
   {
    "duration": 3,
    "start_time": "2023-05-21T16:46:09.759Z"
   },
   {
    "duration": 3,
    "start_time": "2023-05-21T16:46:12.694Z"
   },
   {
    "duration": 652476,
    "start_time": "2023-05-21T16:46:13.694Z"
   },
   {
    "duration": 3,
    "start_time": "2023-05-21T16:57:06.172Z"
   },
   {
    "duration": 115102,
    "start_time": "2023-05-21T16:57:06.176Z"
   },
   {
    "duration": 3,
    "start_time": "2023-05-21T16:59:01.280Z"
   },
   {
    "duration": 7,
    "start_time": "2023-05-21T16:59:01.351Z"
   },
   {
    "duration": 3,
    "start_time": "2023-05-21T17:06:48.874Z"
   },
   {
    "duration": 4,
    "start_time": "2023-05-21T17:06:48.880Z"
   },
   {
    "duration": 1105711,
    "start_time": "2023-05-21T17:06:48.885Z"
   },
   {
    "duration": 2035,
    "start_time": "2023-05-21T17:25:14.597Z"
   },
   {
    "duration": 2,
    "start_time": "2023-05-21T17:25:16.634Z"
   },
   {
    "duration": 31,
    "start_time": "2023-05-21T17:25:16.637Z"
   },
   {
    "duration": 2,
    "start_time": "2023-05-21T17:25:16.670Z"
   },
   {
    "duration": 27,
    "start_time": "2023-05-21T17:25:16.674Z"
   },
   {
    "duration": 30,
    "start_time": "2023-05-21T17:25:16.703Z"
   },
   {
    "duration": 19,
    "start_time": "2023-05-21T17:25:16.735Z"
   },
   {
    "duration": 57,
    "start_time": "2023-05-21T17:25:16.762Z"
   },
   {
    "duration": 67,
    "start_time": "2023-05-21T17:25:16.820Z"
   },
   {
    "duration": 14,
    "start_time": "2023-05-21T17:25:16.888Z"
   },
   {
    "duration": 6728,
    "start_time": "2023-05-21T17:25:16.905Z"
   },
   {
    "duration": 5,
    "start_time": "2023-05-21T17:25:23.634Z"
   },
   {
    "duration": 606700,
    "start_time": "2023-05-21T17:25:23.651Z"
   },
   {
    "duration": 4,
    "start_time": "2023-05-21T17:35:30.363Z"
   },
   {
    "duration": 78,
    "start_time": "2023-05-21T17:35:30.368Z"
   },
   {
    "duration": 17,
    "start_time": "2023-05-21T17:35:30.448Z"
   },
   {
    "duration": 35,
    "start_time": "2023-05-21T17:35:30.467Z"
   },
   {
    "duration": 1487812,
    "start_time": "2023-05-21T17:35:30.504Z"
   },
   {
    "duration": 0,
    "start_time": "2023-05-21T18:00:18.319Z"
   },
   {
    "duration": 0,
    "start_time": "2023-05-21T18:00:18.320Z"
   },
   {
    "duration": 0,
    "start_time": "2023-05-21T18:00:18.322Z"
   },
   {
    "duration": 0,
    "start_time": "2023-05-21T18:00:18.323Z"
   },
   {
    "duration": 0,
    "start_time": "2023-05-21T18:00:18.325Z"
   },
   {
    "duration": 2670,
    "start_time": "2023-05-21T18:00:24.544Z"
   },
   {
    "duration": 3,
    "start_time": "2023-05-21T18:00:38.045Z"
   },
   {
    "duration": 3,
    "start_time": "2023-05-21T18:00:56.968Z"
   },
   {
    "duration": 1338984,
    "start_time": "2023-05-21T18:01:52.822Z"
   },
   {
    "duration": 0,
    "start_time": "2023-05-21T18:24:11.808Z"
   },
   {
    "duration": 3,
    "start_time": "2023-05-21T18:24:42.331Z"
   },
   {
    "duration": 2010,
    "start_time": "2023-05-21T20:15:01.703Z"
   },
   {
    "duration": 2716,
    "start_time": "2023-05-21T20:15:06.128Z"
   },
   {
    "duration": 521,
    "start_time": "2023-05-21T20:15:09.464Z"
   },
   {
    "duration": 3506,
    "start_time": "2023-05-21T20:15:11.009Z"
   },
   {
    "duration": 15,
    "start_time": "2023-05-21T20:15:15.076Z"
   },
   {
    "duration": 32,
    "start_time": "2023-05-21T20:15:17.712Z"
   },
   {
    "duration": 4,
    "start_time": "2023-05-21T20:15:47.400Z"
   },
   {
    "duration": 4,
    "start_time": "2023-05-21T20:15:47.888Z"
   },
   {
    "duration": 3,
    "start_time": "2023-05-21T20:15:51.600Z"
   },
   {
    "duration": 160890,
    "start_time": "2023-05-21T20:15:58.368Z"
   },
   {
    "duration": 4,
    "start_time": "2023-05-21T20:18:53.763Z"
   },
   {
    "duration": 134093,
    "start_time": "2023-05-21T20:18:54.727Z"
   },
   {
    "duration": 250,
    "start_time": "2023-05-21T20:23:56.652Z"
   },
   {
    "duration": 12,
    "start_time": "2023-05-21T20:24:04.970Z"
   },
   {
    "duration": 27,
    "start_time": "2023-05-21T20:24:06.218Z"
   },
   {
    "duration": 3,
    "start_time": "2023-05-21T20:24:15.652Z"
   },
   {
    "duration": 238,
    "start_time": "2023-05-21T20:24:17.982Z"
   },
   {
    "duration": 6,
    "start_time": "2023-05-21T20:24:19.185Z"
   },
   {
    "duration": 881,
    "start_time": "2023-05-21T20:24:20.785Z"
   },
   {
    "duration": 6,
    "start_time": "2023-05-21T20:24:24.401Z"
   },
   {
    "duration": 87536,
    "start_time": "2023-05-21T20:24:27.314Z"
   },
   {
    "duration": 4,
    "start_time": "2023-05-21T20:26:22.285Z"
   },
   {
    "duration": 520,
    "start_time": "2023-05-21T20:26:25.862Z"
   },
   {
    "duration": 24,
    "start_time": "2023-05-21T20:26:29.218Z"
   },
   {
    "duration": 4,
    "start_time": "2023-05-21T20:26:46.054Z"
   },
   {
    "duration": 7,
    "start_time": "2023-05-21T20:26:50.268Z"
   },
   {
    "duration": 29,
    "start_time": "2023-05-21T20:26:54.544Z"
   },
   {
    "duration": 170009,
    "start_time": "2023-05-21T20:27:11.827Z"
   },
   {
    "duration": 4,
    "start_time": "2023-05-21T20:30:27.123Z"
   },
   {
    "duration": 326494,
    "start_time": "2023-05-21T20:30:43.086Z"
   },
   {
    "duration": 3,
    "start_time": "2023-05-21T20:36:40.728Z"
   },
   {
    "duration": 21,
    "start_time": "2023-05-21T20:36:42.396Z"
   },
   {
    "duration": 5,
    "start_time": "2023-05-21T20:37:09.766Z"
   },
   {
    "duration": 53,
    "start_time": "2023-05-21T20:37:15.968Z"
   },
   {
    "duration": 3,
    "start_time": "2023-05-21T20:40:40.048Z"
   },
   {
    "duration": 7629,
    "start_time": "2023-05-21T20:40:44.558Z"
   },
   {
    "duration": 3,
    "start_time": "2023-05-21T20:41:37.494Z"
   },
   {
    "duration": 4823,
    "start_time": "2023-05-21T20:41:38.789Z"
   },
   {
    "duration": 3,
    "start_time": "2023-05-21T20:41:55.142Z"
   },
   {
    "duration": 11826,
    "start_time": "2023-05-21T20:41:56.041Z"
   },
   {
    "duration": 4,
    "start_time": "2023-05-21T20:42:57.547Z"
   },
   {
    "duration": 6,
    "start_time": "2023-05-21T20:42:58.365Z"
   },
   {
    "duration": 4,
    "start_time": "2023-05-21T20:43:12.677Z"
   },
   {
    "duration": 7,
    "start_time": "2023-05-21T20:43:13.342Z"
   },
   {
    "duration": 4,
    "start_time": "2023-05-21T20:43:31.390Z"
   },
   {
    "duration": 4,
    "start_time": "2023-05-21T20:43:35.557Z"
   },
   {
    "duration": 3,
    "start_time": "2023-05-21T20:43:38.471Z"
   },
   {
    "duration": 18,
    "start_time": "2023-05-21T20:43:40.765Z"
   },
   {
    "duration": 3,
    "start_time": "2023-05-21T20:43:44.381Z"
   },
   {
    "duration": 6,
    "start_time": "2023-05-21T20:43:46.150Z"
   },
   {
    "duration": 3,
    "start_time": "2023-05-21T20:44:06.045Z"
   },
   {
    "duration": 619824,
    "start_time": "2023-05-21T20:44:06.840Z"
   },
   {
    "duration": 3,
    "start_time": "2023-05-21T20:56:54.839Z"
   },
   {
    "duration": 7,
    "start_time": "2023-05-21T20:56:58.338Z"
   },
   {
    "duration": 3,
    "start_time": "2023-05-21T20:57:26.256Z"
   },
   {
    "duration": 1027094,
    "start_time": "2023-05-21T20:57:27.540Z"
   },
   {
    "duration": 1855,
    "start_time": "2023-05-21T21:14:38.626Z"
   },
   {
    "duration": 2,
    "start_time": "2023-05-21T21:14:41.318Z"
   },
   {
    "duration": 7,
    "start_time": "2023-05-21T21:14:49.053Z"
   },
   {
    "duration": 32,
    "start_time": "2023-05-21T21:14:51.162Z"
   },
   {
    "duration": 2,
    "start_time": "2023-05-21T21:14:52.377Z"
   },
   {
    "duration": 4,
    "start_time": "2023-05-21T21:14:54.793Z"
   },
   {
    "duration": 6,
    "start_time": "2023-05-21T21:14:55.519Z"
   },
   {
    "duration": 6109,
    "start_time": "2023-05-21T21:14:56.754Z"
   },
   {
    "duration": 5,
    "start_time": "2023-05-21T21:15:06.385Z"
   },
   {
    "duration": 436061,
    "start_time": "2023-05-21T21:15:08.825Z"
   },
   {
    "duration": 3,
    "start_time": "2023-05-21T21:22:30.299Z"
   },
   {
    "duration": 16592,
    "start_time": "2023-05-21T21:22:31.287Z"
   },
   {
    "duration": 116992,
    "start_time": "2023-05-21T21:22:49.469Z"
   },
   {
    "duration": 2,
    "start_time": "2023-05-21T21:24:52.827Z"
   },
   {
    "duration": 9406,
    "start_time": "2023-05-21T21:24:53.953Z"
   },
   {
    "duration": 39629,
    "start_time": "2023-05-21T21:25:10.230Z"
   },
   {
    "duration": 3,
    "start_time": "2023-05-21T21:26:09.220Z"
   },
   {
    "duration": 568088,
    "start_time": "2023-05-21T21:26:10.070Z"
   },
   {
    "duration": 4,
    "start_time": "2023-05-21T21:36:12.878Z"
   },
   {
    "duration": 2685,
    "start_time": "2023-05-21T21:37:19.551Z"
   },
   {
    "duration": 3,
    "start_time": "2023-05-21T21:37:25.789Z"
   },
   {
    "duration": 3,
    "start_time": "2023-05-21T21:37:28.389Z"
   },
   {
    "duration": 3,
    "start_time": "2023-05-21T21:38:00.720Z"
   },
   {
    "duration": 312968,
    "start_time": "2023-05-21T21:38:01.710Z"
   },
   {
    "duration": 4,
    "start_time": "2023-05-21T21:43:26.976Z"
   },
   {
    "duration": 2647359,
    "start_time": "2023-05-21T21:43:27.945Z"
   },
   {
    "duration": 4,
    "start_time": "2023-05-21T22:29:11.272Z"
   },
   {
    "duration": 3,
    "start_time": "2023-05-21T22:29:13.513Z"
   },
   {
    "duration": 20648,
    "start_time": "2023-05-21T22:29:15.688Z"
   },
   {
    "duration": 3,
    "start_time": "2023-05-21T22:29:48.919Z"
   },
   {
    "duration": 7,
    "start_time": "2023-05-21T22:29:49.522Z"
   },
   {
    "duration": 22,
    "start_time": "2023-05-21T22:29:54.103Z"
   },
   {
    "duration": 15,
    "start_time": "2023-05-21T22:30:13.568Z"
   },
   {
    "duration": 48,
    "start_time": "2023-05-22T11:26:27.217Z"
   },
   {
    "duration": 1381,
    "start_time": "2023-05-22T15:52:38.730Z"
   },
   {
    "duration": 2910,
    "start_time": "2023-05-22T15:52:43.071Z"
   },
   {
    "duration": 307,
    "start_time": "2023-05-22T15:52:49.825Z"
   },
   {
    "duration": 10,
    "start_time": "2023-05-22T15:52:56.378Z"
   },
   {
    "duration": 3,
    "start_time": "2023-05-22T15:52:58.839Z"
   },
   {
    "duration": 26,
    "start_time": "2023-05-22T15:53:22.352Z"
   },
   {
    "duration": 293,
    "start_time": "2023-05-22T15:53:34.863Z"
   },
   {
    "duration": 4,
    "start_time": "2023-05-22T15:53:36.703Z"
   },
   {
    "duration": 17,
    "start_time": "2023-05-22T15:53:39.150Z"
   },
   {
    "duration": 668,
    "start_time": "2023-05-22T15:53:49.671Z"
   },
   {
    "duration": 2604,
    "start_time": "2023-05-22T15:53:53.391Z"
   },
   {
    "duration": 10,
    "start_time": "2023-05-22T15:54:02.960Z"
   },
   {
    "duration": 32,
    "start_time": "2023-05-22T15:54:04.030Z"
   },
   {
    "duration": 4,
    "start_time": "2023-05-22T15:54:07.536Z"
   },
   {
    "duration": 4,
    "start_time": "2023-05-22T15:54:07.983Z"
   },
   {
    "duration": 3,
    "start_time": "2023-05-22T15:54:09.455Z"
   },
   {
    "duration": 9169,
    "start_time": "2023-05-22T15:54:13.444Z"
   },
   {
    "duration": 26,
    "start_time": "2023-05-22T15:54:27.376Z"
   },
   {
    "duration": 18,
    "start_time": "2023-05-22T15:57:54.818Z"
   },
   {
    "duration": 20,
    "start_time": "2023-05-22T15:58:10.665Z"
   },
   {
    "duration": 16,
    "start_time": "2023-05-22T15:58:55.154Z"
   },
   {
    "duration": 18,
    "start_time": "2023-05-22T15:59:00.576Z"
   },
   {
    "duration": 1086572,
    "start_time": "2023-05-22T16:53:29.040Z"
   },
   {
    "duration": 18,
    "start_time": "2023-05-22T17:11:43.298Z"
   },
   {
    "duration": 3,
    "start_time": "2023-05-22T17:11:55.388Z"
   },
   {
    "duration": 16,
    "start_time": "2023-05-22T17:12:12.344Z"
   },
   {
    "duration": 1932,
    "start_time": "2023-05-22T17:12:41.339Z"
   },
   {
    "duration": 29,
    "start_time": "2023-05-22T17:12:47.314Z"
   },
   {
    "duration": 6947,
    "start_time": "2023-05-22T17:12:51.617Z"
   },
   {
    "duration": 4,
    "start_time": "2023-05-22T17:13:06.225Z"
   },
   {
    "duration": 46,
    "start_time": "2023-05-22T17:13:15.976Z"
   },
   {
    "duration": 50,
    "start_time": "2023-05-22T17:15:15.836Z"
   },
   {
    "duration": 8,
    "start_time": "2023-05-22T17:15:58.996Z"
   },
   {
    "duration": 3,
    "start_time": "2023-05-22T17:16:03.163Z"
   },
   {
    "duration": 61,
    "start_time": "2023-05-22T17:16:04.725Z"
   },
   {
    "duration": 4,
    "start_time": "2023-05-22T17:21:58.076Z"
   },
   {
    "duration": 47,
    "start_time": "2023-05-22T17:21:58.989Z"
   },
   {
    "duration": 3,
    "start_time": "2023-05-22T17:22:33.439Z"
   },
   {
    "duration": 28,
    "start_time": "2023-05-22T17:22:34.366Z"
   },
   {
    "duration": 3,
    "start_time": "2023-05-22T17:22:51.491Z"
   },
   {
    "duration": 24,
    "start_time": "2023-05-22T17:22:54.324Z"
   },
   {
    "duration": 3,
    "start_time": "2023-05-22T17:23:08.483Z"
   },
   {
    "duration": 48,
    "start_time": "2023-05-22T17:23:09.996Z"
   },
   {
    "duration": 3,
    "start_time": "2023-05-22T17:23:27.551Z"
   },
   {
    "duration": 44,
    "start_time": "2023-05-22T17:23:28.145Z"
   },
   {
    "duration": 3,
    "start_time": "2023-05-22T17:23:37.699Z"
   },
   {
    "duration": 44,
    "start_time": "2023-05-22T17:23:38.365Z"
   },
   {
    "duration": 3,
    "start_time": "2023-05-22T17:23:54.503Z"
   },
   {
    "duration": 45,
    "start_time": "2023-05-22T17:23:55.882Z"
   },
   {
    "duration": 3,
    "start_time": "2023-05-22T17:24:25.320Z"
   },
   {
    "duration": 47,
    "start_time": "2023-05-22T17:24:26.398Z"
   },
   {
    "duration": 5,
    "start_time": "2023-05-22T17:26:01.817Z"
   },
   {
    "duration": 3,
    "start_time": "2023-05-22T17:27:01.621Z"
   },
   {
    "duration": 317,
    "start_time": "2023-05-22T17:27:03.464Z"
   },
   {
    "duration": 5,
    "start_time": "2023-05-22T17:27:24.454Z"
   },
   {
    "duration": 6265,
    "start_time": "2023-05-22T17:27:27.509Z"
   },
   {
    "duration": 10,
    "start_time": "2023-05-22T17:27:36.364Z"
   },
   {
    "duration": 4,
    "start_time": "2023-05-22T17:27:37.545Z"
   },
   {
    "duration": 3,
    "start_time": "2023-05-22T17:27:40.538Z"
   },
   {
    "duration": 304,
    "start_time": "2023-05-22T17:27:42.407Z"
   },
   {
    "duration": 3,
    "start_time": "2023-05-22T17:28:56.062Z"
   },
   {
    "duration": 2,
    "start_time": "2023-05-22T17:29:01.879Z"
   },
   {
    "duration": 3,
    "start_time": "2023-05-22T17:29:06.148Z"
   },
   {
    "duration": 2,
    "start_time": "2023-05-22T17:30:02.321Z"
   },
   {
    "duration": 305,
    "start_time": "2023-05-22T17:30:05.444Z"
   },
   {
    "duration": 6389,
    "start_time": "2023-05-22T17:52:45.444Z"
   },
   {
    "duration": 306,
    "start_time": "2023-05-22T17:52:55.893Z"
   },
   {
    "duration": 5890,
    "start_time": "2023-05-22T17:53:08.507Z"
   },
   {
    "duration": 12,
    "start_time": "2023-05-22T17:58:31.189Z"
   },
   {
    "duration": 984,
    "start_time": "2023-05-22T17:58:38.544Z"
   },
   {
    "duration": 29,
    "start_time": "2023-05-22T17:58:45.478Z"
   },
   {
    "duration": 52,
    "start_time": "2023-05-22T17:59:06.801Z"
   },
   {
    "duration": 19,
    "start_time": "2023-05-22T17:59:12.870Z"
   },
   {
    "duration": 6508,
    "start_time": "2023-05-22T17:59:16.345Z"
   },
   {
    "duration": 293,
    "start_time": "2023-05-22T17:59:26.886Z"
   },
   {
    "duration": 4,
    "start_time": "2023-05-22T17:59:50.662Z"
   },
   {
    "duration": 7,
    "start_time": "2023-05-22T18:00:47.782Z"
   },
   {
    "duration": 149,
    "start_time": "2023-05-22T18:02:10.046Z"
   },
   {
    "duration": 125,
    "start_time": "2023-05-22T18:02:22.222Z"
   },
   {
    "duration": 2,
    "start_time": "2023-05-22T18:02:30.254Z"
   },
   {
    "duration": 30,
    "start_time": "2023-05-22T18:02:32.063Z"
   },
   {
    "duration": 5979,
    "start_time": "2023-05-22T18:02:38.446Z"
   },
   {
    "duration": 3,
    "start_time": "2023-05-22T18:02:47.966Z"
   },
   {
    "duration": 3,
    "start_time": "2023-05-22T18:02:53.798Z"
   },
   {
    "duration": 292,
    "start_time": "2023-05-22T18:02:57.072Z"
   },
   {
    "duration": 13,
    "start_time": "2023-05-22T18:08:59.277Z"
   },
   {
    "duration": 6,
    "start_time": "2023-05-22T18:09:36.694Z"
   },
   {
    "duration": 17,
    "start_time": "2023-05-22T18:09:49.849Z"
   },
   {
    "duration": 4,
    "start_time": "2023-05-22T18:09:51.086Z"
   },
   {
    "duration": 3,
    "start_time": "2023-05-22T18:09:58.260Z"
   },
   {
    "duration": 20,
    "start_time": "2023-05-22T18:10:04.463Z"
   },
   {
    "duration": 28,
    "start_time": "2023-05-22T18:10:30.021Z"
   },
   {
    "duration": 15,
    "start_time": "2023-05-22T18:11:14.640Z"
   },
   {
    "duration": 26,
    "start_time": "2023-05-22T18:11:26.605Z"
   },
   {
    "duration": 5,
    "start_time": "2023-05-22T18:11:34.460Z"
   },
   {
    "duration": 4,
    "start_time": "2023-05-22T18:11:35.076Z"
   },
   {
    "duration": 23,
    "start_time": "2023-05-22T18:12:29.948Z"
   },
   {
    "duration": 31,
    "start_time": "2023-05-22T18:12:45.693Z"
   },
   {
    "duration": 14,
    "start_time": "2023-05-22T18:12:46.524Z"
   },
   {
    "duration": 6536,
    "start_time": "2023-05-22T18:12:54.737Z"
   },
   {
    "duration": 4,
    "start_time": "2023-05-22T18:13:01.275Z"
   },
   {
    "duration": 325,
    "start_time": "2023-05-22T18:13:08.542Z"
   },
   {
    "duration": 320,
    "start_time": "2023-05-22T18:16:13.158Z"
   },
   {
    "duration": 22,
    "start_time": "2023-05-22T18:17:01.501Z"
   },
   {
    "duration": 15,
    "start_time": "2023-05-22T18:17:30.738Z"
   },
   {
    "duration": 15,
    "start_time": "2023-05-22T18:17:35.767Z"
   },
   {
    "duration": 30,
    "start_time": "2023-05-22T18:17:39.163Z"
   },
   {
    "duration": 6602,
    "start_time": "2023-05-22T18:17:43.612Z"
   },
   {
    "duration": 4,
    "start_time": "2023-05-22T18:17:50.795Z"
   },
   {
    "duration": 324,
    "start_time": "2023-05-22T18:17:58.389Z"
   },
   {
    "duration": 43,
    "start_time": "2023-05-22T18:19:28.096Z"
   },
   {
    "duration": 6560,
    "start_time": "2023-05-22T18:19:38.041Z"
   },
   {
    "duration": 3,
    "start_time": "2023-05-22T18:19:45.967Z"
   },
   {
    "duration": 303,
    "start_time": "2023-05-22T18:20:10.358Z"
   },
   {
    "duration": 44,
    "start_time": "2023-05-22T19:57:28.761Z"
   },
   {
    "duration": 1270,
    "start_time": "2023-05-22T20:00:53.510Z"
   },
   {
    "duration": 2458,
    "start_time": "2023-05-22T20:00:55.765Z"
   },
   {
    "duration": 473,
    "start_time": "2023-05-22T20:01:00.908Z"
   },
   {
    "duration": 2272,
    "start_time": "2023-05-22T20:01:02.124Z"
   },
   {
    "duration": 3,
    "start_time": "2023-05-22T20:01:07.780Z"
   },
   {
    "duration": 2,
    "start_time": "2023-05-22T20:01:08.236Z"
   },
   {
    "duration": 268,
    "start_time": "2023-05-22T20:02:36.127Z"
   },
   {
    "duration": 4743,
    "start_time": "2023-05-22T20:03:20.060Z"
   },
   {
    "duration": 1306,
    "start_time": "2023-05-22T20:03:42.892Z"
   },
   {
    "duration": 2586,
    "start_time": "2023-05-22T20:03:50.412Z"
   },
   {
    "duration": 551,
    "start_time": "2023-05-22T20:03:53.001Z"
   },
   {
    "duration": 887,
    "start_time": "2023-05-22T20:03:53.553Z"
   },
   {
    "duration": 2,
    "start_time": "2023-05-22T20:03:59.292Z"
   },
   {
    "duration": 2,
    "start_time": "2023-05-22T20:03:59.644Z"
   },
   {
    "duration": 3943,
    "start_time": "2023-05-22T20:04:06.035Z"
   },
   {
    "duration": 144,
    "start_time": "2023-05-22T20:04:18.471Z"
   },
   {
    "duration": 65,
    "start_time": "2023-05-22T20:04:36.808Z"
   },
   {
    "duration": 1064450,
    "start_time": "2023-05-22T20:04:59.660Z"
   },
   {
    "duration": 17,
    "start_time": "2023-05-22T20:34:56.866Z"
   },
   {
    "duration": 17,
    "start_time": "2023-05-22T20:35:20.396Z"
   },
   {
    "duration": 16,
    "start_time": "2023-05-22T20:35:37.609Z"
   },
   {
    "duration": 16,
    "start_time": "2023-05-22T20:35:40.602Z"
   },
   {
    "duration": 222,
    "start_time": "2023-05-22T20:35:47.058Z"
   },
   {
    "duration": 1866,
    "start_time": "2023-05-22T20:44:05.340Z"
   },
   {
    "duration": 162,
    "start_time": "2023-05-22T20:44:08.835Z"
   },
   {
    "duration": 34,
    "start_time": "2023-05-22T20:44:10.650Z"
   },
   {
    "duration": 20,
    "start_time": "2023-05-22T20:44:14.692Z"
   },
   {
    "duration": 3,
    "start_time": "2023-05-22T20:44:29.099Z"
   },
   {
    "duration": 31,
    "start_time": "2023-05-22T20:44:32.435Z"
   },
   {
    "duration": 4,
    "start_time": "2023-05-22T20:44:36.901Z"
   },
   {
    "duration": 20,
    "start_time": "2023-05-22T20:44:45.730Z"
   },
   {
    "duration": 3,
    "start_time": "2023-05-22T20:44:47.546Z"
   },
   {
    "duration": 7,
    "start_time": "2023-05-22T20:44:49.266Z"
   },
   {
    "duration": 2,
    "start_time": "2023-05-22T20:44:54.244Z"
   },
   {
    "duration": 3,
    "start_time": "2023-05-22T20:44:55.351Z"
   },
   {
    "duration": 83611,
    "start_time": "2023-05-22T20:44:57.602Z"
   },
   {
    "duration": 2,
    "start_time": "2023-05-22T20:47:40.845Z"
   },
   {
    "duration": 17466,
    "start_time": "2023-05-22T20:47:41.942Z"
   },
   {
    "duration": 2,
    "start_time": "2023-05-22T20:48:05.996Z"
   }
  ],
  "kernelspec": {
   "display_name": "Python 3 (ipykernel)",
   "language": "python",
   "name": "python3"
  },
  "language_info": {
   "codemirror_mode": {
    "name": "ipython",
    "version": 3
   },
   "file_extension": ".py",
   "mimetype": "text/x-python",
   "name": "python",
   "nbconvert_exporter": "python",
   "pygments_lexer": "ipython3",
   "version": "3.9.13"
  },
  "toc": {
   "base_numbering": 1,
   "nav_menu": {
    "height": "198px",
    "width": "243px"
   },
   "number_sections": true,
   "sideBar": true,
   "skip_h1_title": true,
   "title_cell": "Содержание",
   "title_sidebar": "Contents",
   "toc_cell": true,
   "toc_position": {
    "height": "calc(100% - 180px)",
    "left": "10px",
    "top": "150px",
    "width": "302.344px"
   },
   "toc_section_display": true,
   "toc_window_display": true
  }
 },
 "nbformat": 4,
 "nbformat_minor": 2
}
